{
 "cells": [
  {
   "cell_type": "code",
   "execution_count": 1,
   "metadata": {},
   "outputs": [],
   "source": [
    "\n",
    "import sys\n",
    "from pandas import DataFrame   \n",
    "import pandas as pd  "
   ]
  },
  {
   "cell_type": "markdown",
   "metadata": {},
   "source": [
    "Ooen the file with encoding of 'ISO-8859-1'\n",
    "Read text file with movie related data, and store them into dictionary. \n"
   ]
  },
  {
   "cell_type": "code",
   "execution_count": 2,
   "metadata": {},
   "outputs": [],
   "source": [
    "dict_data={}\n",
    "# Read text file with movie related data, and store them into dictionary\n",
    "with open('data/movies_in.txt',encoding=\"ISO-8859-1\")as df:\n",
    "\n",
    "    for line in df:\n",
    "        if line.count('\\n') == len(line):\n",
    "            continue\n",
    "        for kv in [line.strip().split(':',1)]:\n",
    "            if len(kv) > 0:\n",
    "                dict_data.setdefault(kv[0],[]).append(kv[1])\n",
    " \n",
    "\n",
    "columnsname=list(dict_data.keys())\n",
    " \n",
    "frame = DataFrame(dict_data,columns=columnsname)"
   ]
  },
  {
   "cell_type": "markdown",
   "metadata": {},
   "source": [
    "Parse dictionary data in to dataframe"
   ]
  },
  {
   "cell_type": "code",
   "execution_count": 3,
   "metadata": {},
   "outputs": [],
   "source": [
    "# Convert dictionary data into list\n",
    "columnsname=list(dict_data.keys())\n",
    " \n",
    "# Convert list of data into dataframe\n",
    "frame = DataFrame(dict_data,columns=columnsname)"
   ]
  },
  {
   "cell_type": "markdown",
   "metadata": {},
   "source": [
    "Inspecting dataframe"
   ]
  },
  {
   "cell_type": "code",
   "execution_count": 36,
   "metadata": {
    "scrolled": true
   },
   "outputs": [
    {
     "data": {
      "text/html": [
       "<div>\n",
       "<style scoped>\n",
       "    .dataframe tbody tr th:only-of-type {\n",
       "        vertical-align: middle;\n",
       "    }\n",
       "\n",
       "    .dataframe tbody tr th {\n",
       "        vertical-align: top;\n",
       "    }\n",
       "\n",
       "    .dataframe thead th {\n",
       "        text-align: right;\n",
       "    }\n",
       "</style>\n",
       "<table border=\"1\" class=\"dataframe\">\n",
       "  <thead>\n",
       "    <tr style=\"text-align: right;\">\n",
       "      <th></th>\n",
       "      <th>product/productId</th>\n",
       "      <th>review/userId</th>\n",
       "      <th>review/profileName</th>\n",
       "      <th>review/helpfulness</th>\n",
       "      <th>review/score</th>\n",
       "      <th>review/time</th>\n",
       "      <th>review/summary</th>\n",
       "      <th>review/text</th>\n",
       "    </tr>\n",
       "  </thead>\n",
       "  <tbody>\n",
       "    <tr>\n",
       "      <th>0</th>\n",
       "      <td>B003AI2VGA</td>\n",
       "      <td>A141HP4LYPWMSR</td>\n",
       "      <td>Brian E. Erland \"Rainbow Sphinx\"</td>\n",
       "      <td>7/7</td>\n",
       "      <td>3.0</td>\n",
       "      <td>1182729600</td>\n",
       "      <td>\"There Is So Much Darkness Now ~ Come For The...</td>\n",
       "      <td>Synopsis: On the daily trek from Juarez, Mexi...</td>\n",
       "    </tr>\n",
       "    <tr>\n",
       "      <th>1</th>\n",
       "      <td>B003AI2VGA</td>\n",
       "      <td>A328S9RN3U5M68</td>\n",
       "      <td>Grady Harp</td>\n",
       "      <td>4/4</td>\n",
       "      <td>3.0</td>\n",
       "      <td>1181952000</td>\n",
       "      <td>Worthwhile and Important Story Hampered by Po...</td>\n",
       "      <td>THE VIRGIN OF JUAREZ is based on true events ...</td>\n",
       "    </tr>\n",
       "    <tr>\n",
       "      <th>2</th>\n",
       "      <td>B003AI2VGA</td>\n",
       "      <td>A1I7QGUDP043DG</td>\n",
       "      <td>Chrissy K. McVay \"Writer\"</td>\n",
       "      <td>8/10</td>\n",
       "      <td>5.0</td>\n",
       "      <td>1164844800</td>\n",
       "      <td>This movie needed to be made.</td>\n",
       "      <td>The scenes in this film can be very disquieti...</td>\n",
       "    </tr>\n",
       "    <tr>\n",
       "      <th>3</th>\n",
       "      <td>B003AI2VGA</td>\n",
       "      <td>A1M5405JH9THP9</td>\n",
       "      <td>golgotha.gov</td>\n",
       "      <td>1/1</td>\n",
       "      <td>3.0</td>\n",
       "      <td>1197158400</td>\n",
       "      <td>distantly based on a real tragedy</td>\n",
       "      <td>THE VIRGIN OF JUAREZ (2006)&lt;br /&gt;directed by ...</td>\n",
       "    </tr>\n",
       "    <tr>\n",
       "      <th>4</th>\n",
       "      <td>B003AI2VGA</td>\n",
       "      <td>ATXL536YX71TR</td>\n",
       "      <td>KerrLines \"&amp;#34;Movies,Music,Theatre&amp;#34;\"</td>\n",
       "      <td>1/1</td>\n",
       "      <td>3.0</td>\n",
       "      <td>1188345600</td>\n",
       "      <td>\"What's going on down in Juarez and shining a...</td>\n",
       "      <td>Informationally, this SHOWTIME original is es...</td>\n",
       "    </tr>\n",
       "    <tr>\n",
       "      <th>5</th>\n",
       "      <td>B003AI2VGA</td>\n",
       "      <td>A3QYDL5CDNYN66</td>\n",
       "      <td>abra \"a devoted reader\"</td>\n",
       "      <td>0/0</td>\n",
       "      <td>2.0</td>\n",
       "      <td>1229040000</td>\n",
       "      <td>Pretty pointless fictionalization</td>\n",
       "      <td>The murders in Juarez are real. This movie is...</td>\n",
       "    </tr>\n",
       "    <tr>\n",
       "      <th>6</th>\n",
       "      <td>B003AI2VGA</td>\n",
       "      <td>AQJVNDW6YZFQS</td>\n",
       "      <td>Charles R. Williams</td>\n",
       "      <td>3/11</td>\n",
       "      <td>1.0</td>\n",
       "      <td>1164153600</td>\n",
       "      <td>This is junk, stay away</td>\n",
       "      <td>Mexican men are macho rapists, gangsters or i...</td>\n",
       "    </tr>\n",
       "    <tr>\n",
       "      <th>7</th>\n",
       "      <td>B00006HAXW</td>\n",
       "      <td>AD4CDZK7D31XP</td>\n",
       "      <td>Anthony Accordino</td>\n",
       "      <td>64/65</td>\n",
       "      <td>5.0</td>\n",
       "      <td>1060473600</td>\n",
       "      <td>A  Rock N Roll History Lesson</td>\n",
       "      <td>Over the past few years, public television ha...</td>\n",
       "    </tr>\n",
       "    <tr>\n",
       "      <th>8</th>\n",
       "      <td>B00006HAXW</td>\n",
       "      <td>A3Q4S5DFVPB70D</td>\n",
       "      <td>Joseph P. Aiello</td>\n",
       "      <td>26/26</td>\n",
       "      <td>5.0</td>\n",
       "      <td>1041292800</td>\n",
       "      <td>A  MUST-HAVE  video if you grew up in the 50'...</td>\n",
       "      <td>I recvd this video (DVD version) as a Christm...</td>\n",
       "    </tr>\n",
       "    <tr>\n",
       "      <th>9</th>\n",
       "      <td>B00006HAXW</td>\n",
       "      <td>A2P7UB02HAVEPB</td>\n",
       "      <td>\"bruce_from_la\"</td>\n",
       "      <td>24/24</td>\n",
       "      <td>5.0</td>\n",
       "      <td>1061164800</td>\n",
       "      <td>If You Like DooWop You Gotta Have This DVD</td>\n",
       "      <td>Wow! When I saw this show on PBS--that was it...</td>\n",
       "    </tr>\n",
       "  </tbody>\n",
       "</table>\n",
       "</div>"
      ],
      "text/plain": [
       "  product/productId    review/userId  \\\n",
       "0        B003AI2VGA   A141HP4LYPWMSR   \n",
       "1        B003AI2VGA   A328S9RN3U5M68   \n",
       "2        B003AI2VGA   A1I7QGUDP043DG   \n",
       "3        B003AI2VGA   A1M5405JH9THP9   \n",
       "4        B003AI2VGA    ATXL536YX71TR   \n",
       "5        B003AI2VGA   A3QYDL5CDNYN66   \n",
       "6        B003AI2VGA    AQJVNDW6YZFQS   \n",
       "7        B00006HAXW    AD4CDZK7D31XP   \n",
       "8        B00006HAXW   A3Q4S5DFVPB70D   \n",
       "9        B00006HAXW   A2P7UB02HAVEPB   \n",
       "\n",
       "                            review/profileName review/helpfulness  \\\n",
       "0             Brian E. Erland \"Rainbow Sphinx\"                7/7   \n",
       "1                                   Grady Harp                4/4   \n",
       "2                    Chrissy K. McVay \"Writer\"               8/10   \n",
       "3                                 golgotha.gov                1/1   \n",
       "4   KerrLines \"&#34;Movies,Music,Theatre&#34;\"                1/1   \n",
       "5                      abra \"a devoted reader\"                0/0   \n",
       "6                          Charles R. Williams               3/11   \n",
       "7                            Anthony Accordino              64/65   \n",
       "8                             Joseph P. Aiello              26/26   \n",
       "9                              \"bruce_from_la\"              24/24   \n",
       "\n",
       "  review/score  review/time  \\\n",
       "0          3.0   1182729600   \n",
       "1          3.0   1181952000   \n",
       "2          5.0   1164844800   \n",
       "3          3.0   1197158400   \n",
       "4          3.0   1188345600   \n",
       "5          2.0   1229040000   \n",
       "6          1.0   1164153600   \n",
       "7          5.0   1060473600   \n",
       "8          5.0   1041292800   \n",
       "9          5.0   1061164800   \n",
       "\n",
       "                                      review/summary  \\\n",
       "0   \"There Is So Much Darkness Now ~ Come For The...   \n",
       "1   Worthwhile and Important Story Hampered by Po...   \n",
       "2                      This movie needed to be made.   \n",
       "3                  distantly based on a real tragedy   \n",
       "4   \"What's going on down in Juarez and shining a...   \n",
       "5                  Pretty pointless fictionalization   \n",
       "6                            This is junk, stay away   \n",
       "7                      A  Rock N Roll History Lesson   \n",
       "8   A  MUST-HAVE  video if you grew up in the 50'...   \n",
       "9         If You Like DooWop You Gotta Have This DVD   \n",
       "\n",
       "                                         review/text  \n",
       "0   Synopsis: On the daily trek from Juarez, Mexi...  \n",
       "1   THE VIRGIN OF JUAREZ is based on true events ...  \n",
       "2   The scenes in this film can be very disquieti...  \n",
       "3   THE VIRGIN OF JUAREZ (2006)<br />directed by ...  \n",
       "4   Informationally, this SHOWTIME original is es...  \n",
       "5   The murders in Juarez are real. This movie is...  \n",
       "6   Mexican men are macho rapists, gangsters or i...  \n",
       "7   Over the past few years, public television ha...  \n",
       "8   I recvd this video (DVD version) as a Christm...  \n",
       "9   Wow! When I saw this show on PBS--that was it...  "
      ]
     },
     "execution_count": 36,
     "metadata": {},
     "output_type": "execute_result"
    }
   ],
   "source": [
    "frame.head(10)"
   ]
  },
  {
   "cell_type": "code",
   "execution_count": 48,
   "metadata": {
    "scrolled": false
   },
   "outputs": [
    {
     "data": {
      "text/plain": [
       "Index(['product/productId', 'review/userId', 'review/profileName',\n",
       "       'review/helpfulness', 'review/score', 'review/time', 'review/summary',\n",
       "       'review/text'],\n",
       "      dtype='object')"
      ]
     },
     "execution_count": 48,
     "metadata": {},
     "output_type": "execute_result"
    }
   ],
   "source": [
    "frame.columns"
   ]
  },
  {
   "cell_type": "code",
   "execution_count": 37,
   "metadata": {
    "scrolled": true
   },
   "outputs": [
    {
     "data": {
      "text/plain": [
       "(7911684, 8)"
      ]
     },
     "execution_count": 37,
     "metadata": {},
     "output_type": "execute_result"
    }
   ],
   "source": [
    "frame.shape"
   ]
  },
  {
   "cell_type": "markdown",
   "metadata": {},
   "source": [
    "Since the foremost original data contains almost 8 millions of movie data, which is too much for regular laptop to take and not to mention building machine learning model based on it, take the 100k number of subset data of it."
   ]
  },
  {
   "cell_type": "code",
   "execution_count": 4,
   "metadata": {},
   "outputs": [],
   "source": [
    "movies_100k = frame.head(100000)"
   ]
  },
  {
   "cell_type": "markdown",
   "metadata": {},
   "source": [
    "Rename some of the useful columns"
   ]
  },
  {
   "cell_type": "code",
   "execution_count": 6,
   "metadata": {},
   "outputs": [],
   "source": [
    "movies_100k.columns = ['movieId', 'userId', 'title', 'review/helpfulness', 'rating', 'timestamp', 'review/summary', 'comment']\n",
    "\n",
    "\n"
   ]
  },
  {
   "cell_type": "markdown",
   "metadata": {},
   "source": [
    "Store the processed dataframe into csv file"
   ]
  },
  {
   "cell_type": "code",
   "execution_count": 7,
   "metadata": {},
   "outputs": [],
   "source": [
    "\n",
    "movies_100k.to_csv('data/movies_100k.csv',index=False,header=False)"
   ]
  },
  {
   "cell_type": "code",
   "execution_count": null,
   "metadata": {},
   "outputs": [],
   "source": []
  }
 ],
 "metadata": {
  "kernelspec": {
   "display_name": "Python 3",
   "language": "python",
   "name": "python3"
  },
  "language_info": {
   "codemirror_mode": {
    "name": "ipython",
    "version": 3
   },
   "file_extension": ".py",
   "mimetype": "text/x-python",
   "name": "python",
   "nbconvert_exporter": "python",
   "pygments_lexer": "ipython3",
   "version": "3.7.3"
  }
 },
 "nbformat": 4,
 "nbformat_minor": 2
}
